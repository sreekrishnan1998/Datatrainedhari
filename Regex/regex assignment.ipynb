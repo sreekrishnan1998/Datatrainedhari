{
  "nbformat": 4,
  "nbformat_minor": 0,
  "metadata": {
    "colab": {
      "provenance": []
    },
    "kernelspec": {
      "name": "python3",
      "display_name": "Python 3"
    },
    "language_info": {
      "name": "python"
    }
  },
  "cells": [
    {
      "cell_type": "code",
      "execution_count": 1,
      "metadata": {
        "id": "-ZkaEyFPkUIR"
      },
      "outputs": [],
      "source": [
        "import regex as re"
      ]
    },
    {
      "cell_type": "markdown",
      "source": [
        "Question 1- Write a Python program to replace all occurrences of a space, comma, or dot with a colon."
      ],
      "metadata": {
        "id": "TjfxzAMTkaNn"
      }
    },
    {
      "cell_type": "code",
      "source": [
        "Sample_Text= 'Python Exercises, PHP exercises.'\n",
        "output= re.sub(r'[\\s+,]', ':', Sample_Text)"
      ],
      "metadata": {
        "id": "fna3m_sska5-"
      },
      "execution_count": 5,
      "outputs": []
    },
    {
      "cell_type": "code",
      "source": [
        "output"
      ],
      "metadata": {
        "colab": {
          "base_uri": "https://localhost:8080/",
          "height": 36
        },
        "id": "xqJ2RwNYk0Rj",
        "outputId": "94331fca-ba46-49e6-f90e-46685b2b902b"
      },
      "execution_count": 6,
      "outputs": [
        {
          "output_type": "execute_result",
          "data": {
            "text/plain": [
              "'Python:Exercises::PHP:exercises.'"
            ],
            "application/vnd.google.colaboratory.intrinsic+json": {
              "type": "string"
            }
          },
          "metadata": {},
          "execution_count": 6
        }
      ]
    },
    {
      "cell_type": "markdown",
      "source": [
        "Question 2-  Write a Python program to find all words starting with 'a' or 'e' in a given string\n",
        "\n"
      ],
      "metadata": {
        "id": "Fb5wxX30lJQL"
      }
    },
    {
      "cell_type": "code",
      "source": [
        "Text_1= \"There are eight balls in the bucket\"\n",
        "pattern= r'\\b[ae]\\w+'\n",
        "output= re.findall(pattern, Text_1)\n",
        "output"
      ],
      "metadata": {
        "colab": {
          "base_uri": "https://localhost:8080/"
        },
        "id": "y5GTovr9lMAM",
        "outputId": "4520cffc-1cef-42f9-f202-fa8d09a5cc4f"
      },
      "execution_count": 8,
      "outputs": [
        {
          "output_type": "execute_result",
          "data": {
            "text/plain": [
              "['are', 'eight']"
            ]
          },
          "metadata": {},
          "execution_count": 8
        }
      ]
    },
    {
      "cell_type": "markdown",
      "source": [
        "Question 3- Create a function in python to find all words that are at least 4 characters long in a string. The use of the re.compile() method is mandatory."
      ],
      "metadata": {
        "id": "pYB-v1Y0mIkp"
      }
    },
    {
      "cell_type": "code",
      "source": [
        "def word_with_four_char(text):\n",
        "  pattern = re.compile(r'\\b\\w{3,}\\b')\n",
        "  words = pattern.findall(text)\n",
        "  return words\n",
        "\n",
        "Text_1= \"There are eight balls in the bucket\"\n",
        "output = word_with_four_char(Text_1)\n",
        "output"
      ],
      "metadata": {
        "colab": {
          "base_uri": "https://localhost:8080/"
        },
        "id": "L7OHE086lsaY",
        "outputId": "018b0bc0-51ad-4e9a-fd4b-4e88bc253122"
      },
      "execution_count": 11,
      "outputs": [
        {
          "output_type": "execute_result",
          "data": {
            "text/plain": [
              "['There', 'are', 'eight', 'balls', 'the', 'bucket']"
            ]
          },
          "metadata": {},
          "execution_count": 11
        }
      ]
    },
    {
      "cell_type": "markdown",
      "source": [
        "Question 4- Create a function in python to find all three, four, and five character words in a string. The use of the re.compile() method is mandatory.:"
      ],
      "metadata": {
        "id": "XhkcWTcMnNzY"
      }
    },
    {
      "cell_type": "code",
      "source": [
        "def word_with_n_char(text):\n",
        "  pattern = re.compile(r'\\b\\w{3,5}\\b')\n",
        "  words = pattern.findall(text)\n",
        "  return words\n",
        "\n",
        "Text_1= \"There are eight balls in the bucket\"\n",
        "output = word_with_n_char(Text_1)\n",
        "output"
      ],
      "metadata": {
        "colab": {
          "base_uri": "https://localhost:8080/"
        },
        "id": "2EjfD5e_nO-H",
        "outputId": "7910da6a-fd99-4a27-bdea-47a8c8662913"
      },
      "execution_count": 13,
      "outputs": [
        {
          "output_type": "execute_result",
          "data": {
            "text/plain": [
              "['There', 'are', 'eight', 'balls', 'the']"
            ]
          },
          "metadata": {},
          "execution_count": 13
        }
      ]
    },
    {
      "cell_type": "markdown",
      "source": [
        "Question 5- Create a function in Python to remove the parenthesis in a list of strings. The use of the re.compile() method is mandatory."
      ],
      "metadata": {
        "id": "A7v6nKPFnhH5"
      }
    },
    {
      "cell_type": "code",
      "source": [
        "def remove_parentheses(strings):\n",
        "    pattern = re.compile(r'\\([^)]*\\)')\n",
        "\n",
        "    cleaned_strings = [pattern.sub('', string) for string in strings]\n",
        "\n",
        "    return cleaned_strings\n",
        "\n",
        "\n",
        "sample_text = [\"example (.com)\", \"hr@fliprobo (.com)\", \"github (.com)\", \"Hello (Data Science World)\", \"Data (Scientist)\"]\n",
        "output = remove_parentheses(sample_text)"
      ],
      "metadata": {
        "id": "wOCJGrbMnre-"
      },
      "execution_count": 14,
      "outputs": []
    },
    {
      "cell_type": "code",
      "source": [
        "output"
      ],
      "metadata": {
        "colab": {
          "base_uri": "https://localhost:8080/"
        },
        "id": "6E2iUz8voOAN",
        "outputId": "30ede37e-f1fd-4f7a-df02-e248f905991e"
      },
      "execution_count": 15,
      "outputs": [
        {
          "output_type": "execute_result",
          "data": {
            "text/plain": [
              "['example ', 'hr@fliprobo ', 'github ', 'Hello ', 'Data ']"
            ]
          },
          "metadata": {},
          "execution_count": 15
        }
      ]
    },
    {
      "cell_type": "markdown",
      "source": [
        "Question 6- Write a python program to remove the parenthesis area from the text stored in the text file using Regular Expression."
      ],
      "metadata": {
        "id": "PNUWlftJoV1P"
      }
    },
    {
      "cell_type": "code",
      "source": [
        "with open(\"input.txt\", 'r') as file:\n",
        "        input_text = file.read()\n",
        "\n",
        "    pattern = re.compile(r'\\([^)]*\\)')\n",
        "\n",
        "    cleaned_text = pattern.sub('', input_text)\n",
        "\n",
        "    with open(\"output.txt\", 'w') as file:\n",
        "        file.write(cleaned_text)"
      ],
      "metadata": {
        "id": "zJ8t564uoPNb"
      },
      "execution_count": null,
      "outputs": []
    },
    {
      "cell_type": "markdown",
      "source": [
        "Question 7- Write a regular expression in Python to split a string into uppercase letters."
      ],
      "metadata": {
        "id": "4qttwwZDpUEH"
      }
    },
    {
      "cell_type": "code",
      "source": [
        "sample_text = \"ImportanceOfRegularExpressionsInPython\"\n",
        "pattern = r'[A-Z][a-z]*'"
      ],
      "metadata": {
        "id": "dgwv77XUpMHW"
      },
      "execution_count": 19,
      "outputs": []
    },
    {
      "cell_type": "code",
      "source": [
        "output = re.findall(pattern, sample_text)\n",
        "output"
      ],
      "metadata": {
        "colab": {
          "base_uri": "https://localhost:8080/"
        },
        "id": "Ug4uIoQ2pYA2",
        "outputId": "bf6915dd-5c9f-44f8-df59-4d41f5781232"
      },
      "execution_count": 20,
      "outputs": [
        {
          "output_type": "execute_result",
          "data": {
            "text/plain": [
              "['Importance', 'Of', 'Regular', 'Expressions', 'In', 'Python']"
            ]
          },
          "metadata": {},
          "execution_count": 20
        }
      ]
    },
    {
      "cell_type": "code",
      "source": [
        "output = [word.upper() for word in output]\n",
        "output"
      ],
      "metadata": {
        "colab": {
          "base_uri": "https://localhost:8080/"
        },
        "id": "O6DpUVizpfi5",
        "outputId": "4e700c77-cb74-42f8-e1d6-57d8a0178f7c"
      },
      "execution_count": 23,
      "outputs": [
        {
          "output_type": "execute_result",
          "data": {
            "text/plain": [
              "['IMPORTANCE', 'OF', 'REGULAR', 'EXPRESSIONS', 'IN', 'PYTHON']"
            ]
          },
          "metadata": {},
          "execution_count": 23
        }
      ]
    },
    {
      "cell_type": "markdown",
      "source": [
        "Question 8- Create a function in python to insert spaces between words starting with numbers."
      ],
      "metadata": {
        "id": "EsRn_TZAqO-7"
      }
    },
    {
      "cell_type": "code",
      "source": [
        "def insert_spaces(text):\n",
        "    pattern = r'(\\d)([A-Za-z]+)'\n",
        "\n",
        "    result = re.sub(pattern, r'\\1 \\2', text)\n",
        "\n",
        "    return result"
      ],
      "metadata": {
        "id": "0SJlJEDfpwZf"
      },
      "execution_count": 26,
      "outputs": []
    },
    {
      "cell_type": "code",
      "source": [
        "sample_text = \"RegularExpression1IsAn2ImportantTopic3InPython\"\n",
        "output = insert_spaces(sample_text)\n",
        "output"
      ],
      "metadata": {
        "colab": {
          "base_uri": "https://localhost:8080/",
          "height": 36
        },
        "id": "rZ0zUEnHqp5-",
        "outputId": "cd711cd2-288e-4da3-ebbc-2eeeeffda568"
      },
      "execution_count": 27,
      "outputs": [
        {
          "output_type": "execute_result",
          "data": {
            "text/plain": [
              "'RegularExpression1 IsAn2 ImportantTopic3 InPython'"
            ],
            "application/vnd.google.colaboratory.intrinsic+json": {
              "type": "string"
            }
          },
          "metadata": {},
          "execution_count": 27
        }
      ]
    },
    {
      "cell_type": "markdown",
      "source": [
        "Question 9- Create a function in python to insert spaces between words starting with capital letters or with numbers."
      ],
      "metadata": {
        "id": "mydKHXjKrQJC"
      }
    },
    {
      "cell_type": "code",
      "source": [
        "def insert_spaces(text):\n",
        "    pattern = r'(\\d|\\b[A-Z][A-Za-z]*)'\n",
        "\n",
        "    result = re.sub(pattern, r' \\1', text)\n",
        "\n",
        "    return result"
      ],
      "metadata": {
        "id": "7vItR3SHqvcM"
      },
      "execution_count": 39,
      "outputs": []
    },
    {
      "cell_type": "code",
      "source": [
        "sample_text = \"RegularExpression1IsAn2ImportantTopic3InPython\"\n",
        "output = insert_spaces(sample_text)\n",
        "output"
      ],
      "metadata": {
        "colab": {
          "base_uri": "https://localhost:8080/",
          "height": 36
        },
        "id": "0P_hVDQCrq7i",
        "outputId": "1ac1f236-b82b-42bd-d9bb-e97e2f55eada"
      },
      "execution_count": 40,
      "outputs": [
        {
          "output_type": "execute_result",
          "data": {
            "text/plain": [
              "' RegularExpression 1IsAn 2ImportantTopic 3InPython'"
            ],
            "application/vnd.google.colaboratory.intrinsic+json": {
              "type": "string"
            }
          },
          "metadata": {},
          "execution_count": 40
        }
      ]
    },
    {
      "cell_type": "code",
      "source": [],
      "metadata": {
        "id": "nEqDu4yGraoX"
      },
      "execution_count": null,
      "outputs": []
    },
    {
      "cell_type": "markdown",
      "source": [
        "Question 10- Write a python program to extract email address from the text stored in the text file using Regular Expression.\n",
        "\n"
      ],
      "metadata": {
        "id": "dCyTLHtfwGCZ"
      }
    },
    {
      "cell_type": "code",
      "source": [
        "with open(\"text.txt\", \"r\") as file:\n",
        "    text = file.read()\n",
        "\n",
        "    # Define a regular expression pattern to match email addresses\n",
        "    pattern = r'\\b[A-Za-z0-9._%+-]+@[A-Za-z0-9.-]+\\.[A-Z|a-z]{2,7}\\b'\n",
        "\n",
        "    # Use re.findall() to find all email addresses in the text\n",
        "    extracted_emails = re.findall(pattern, text)\n",
        "\n",
        "    # Print the extracted email addresses\n",
        "    print(extracted_emails)"
      ],
      "metadata": {
        "colab": {
          "base_uri": "https://localhost:8080/"
        },
        "id": "US6aE2zDw1_c",
        "outputId": "d34e9ee9-c392-4824-b4df-9328e9bf4c23"
      },
      "execution_count": 41,
      "outputs": [
        {
          "output_type": "stream",
          "name": "stdout",
          "text": [
            "['xyz@domain.com', 'xyz.abc@sdomain.domain.com', 'hr@fliprobo.com']\n"
          ]
        }
      ]
    },
    {
      "cell_type": "markdown",
      "source": [
        "Question 11- Write a Python program to match a string that contains only upper and lowercase letters, numbers, and underscores."
      ],
      "metadata": {
        "id": "rejS7czoD5Zi"
      }
    },
    {
      "cell_type": "code",
      "source": [
        "Text_2 = \"Hello_World123456 \"\n",
        "pattern = r'^[a-zA-Z0-9_ ]+$'"
      ],
      "metadata": {
        "id": "qyn91FCeD6AH"
      },
      "execution_count": 54,
      "outputs": []
    },
    {
      "cell_type": "code",
      "source": [
        "output=re.match(pattern, Text_2)\n",
        "print(output)"
      ],
      "metadata": {
        "colab": {
          "base_uri": "https://localhost:8080/"
        },
        "id": "m5ggyFiSEPH8",
        "outputId": "f8f8ab13-95dc-4729-d3f5-37a1947d2538"
      },
      "execution_count": 55,
      "outputs": [
        {
          "output_type": "stream",
          "name": "stdout",
          "text": [
            "<regex.Match object; span=(0, 18), match='Hello_World123456 '>\n"
          ]
        }
      ]
    },
    {
      "cell_type": "markdown",
      "source": [
        "Question 12- Write a Python program where a string will start with a specific number."
      ],
      "metadata": {
        "id": "L7vAaPFjFGc0"
      }
    },
    {
      "cell_type": "code",
      "source": [
        "Text_3 = \"2 apples are gone \"\n",
        "pattern = '^[0-9]'\n",
        "output = re.findall(pattern, Text_3)\n",
        "print(output)"
      ],
      "metadata": {
        "colab": {
          "base_uri": "https://localhost:8080/"
        },
        "id": "8pgtQfzXEked",
        "outputId": "0e4fea49-a31c-4595-8a3b-53f119b7a4c4"
      },
      "execution_count": 60,
      "outputs": [
        {
          "output_type": "stream",
          "name": "stdout",
          "text": [
            "['2']\n"
          ]
        }
      ]
    },
    {
      "cell_type": "markdown",
      "source": [
        "Question 13- Write a Python program to remove leading zeros from an IP address"
      ],
      "metadata": {
        "id": "PHira7REF0s1"
      }
    },
    {
      "cell_type": "code",
      "source": [
        "ip_address = \"192.168.010.001\"\n",
        "pattern = r'\\b0+(\\d+)'\n",
        "output=re.sub(pattern,r'\\1',ip_address)\n",
        "output"
      ],
      "metadata": {
        "colab": {
          "base_uri": "https://localhost:8080/",
          "height": 36
        },
        "id": "WmiqX-iiF3Xc",
        "outputId": "fb57e083-152e-447c-9bb5-775cdcd46032"
      },
      "execution_count": 66,
      "outputs": [
        {
          "output_type": "execute_result",
          "data": {
            "text/plain": [
              "'192.168.10.1'"
            ],
            "application/vnd.google.colaboratory.intrinsic+json": {
              "type": "string"
            }
          },
          "metadata": {},
          "execution_count": 66
        }
      ]
    },
    {
      "cell_type": "markdown",
      "source": [
        "Question 14- Write a regular expression in python to match a date string in the form of Month name followed by day number and year stored in a text file."
      ],
      "metadata": {
        "id": "uEt2f88FGxjq"
      }
    },
    {
      "cell_type": "code",
      "source": [
        "dates=\"January 1, 2023 February 15, 2022 March 31, 2021 April 10, 2020 May 25, 2019 June 5, 2018 July 19, 2017 August 2, 2016\""
      ],
      "metadata": {
        "id": "pbqG2FPLGbFu"
      },
      "execution_count": 75,
      "outputs": []
    },
    {
      "cell_type": "code",
      "source": [
        "dates"
      ],
      "metadata": {
        "colab": {
          "base_uri": "https://localhost:8080/",
          "height": 53
        },
        "id": "S0LjJhC-HRyN",
        "outputId": "76efd395-61ba-473f-f87f-4d0fca721387"
      },
      "execution_count": 76,
      "outputs": [
        {
          "output_type": "execute_result",
          "data": {
            "text/plain": [
              "'January 1, 2023 February 15, 2022 March 31, 2021 April 10, 2020 May 25, 2019 June 5, 2018 July 19, 2017 August 2, 2016'"
            ],
            "application/vnd.google.colaboratory.intrinsic+json": {
              "type": "string"
            }
          },
          "metadata": {},
          "execution_count": 76
        }
      ]
    },
    {
      "cell_type": "code",
      "source": [
        "pattern = r'\\b(?:January|February|March|April|May|June|July|August|September|October|November|December)\\s+\\d{1,2},\\s+\\d{4}\\b'\n"
      ],
      "metadata": {
        "id": "FKMN4xT6HTCL"
      },
      "execution_count": 77,
      "outputs": []
    },
    {
      "cell_type": "code",
      "source": [
        "output=re.findall(pattern,dates)"
      ],
      "metadata": {
        "id": "Kmo8p1-UHYG0"
      },
      "execution_count": 80,
      "outputs": []
    },
    {
      "cell_type": "code",
      "source": [
        "output"
      ],
      "metadata": {
        "colab": {
          "base_uri": "https://localhost:8080/"
        },
        "id": "RYzWKpQoHbqt",
        "outputId": "cb8c2cad-f54e-4955-dba3-9545b1d1284a"
      },
      "execution_count": 81,
      "outputs": [
        {
          "output_type": "execute_result",
          "data": {
            "text/plain": [
              "['January 1, 2023',\n",
              " 'February 15, 2022',\n",
              " 'March 31, 2021',\n",
              " 'April 10, 2020',\n",
              " 'May 25, 2019',\n",
              " 'June 5, 2018',\n",
              " 'July 19, 2017',\n",
              " 'August 2, 2016']"
            ]
          },
          "metadata": {},
          "execution_count": 81
        }
      ]
    },
    {
      "cell_type": "markdown",
      "source": [
        "Question 15- Write a Python program to search some literals strings in a string.\n"
      ],
      "metadata": {
        "id": "GYRSMg9mLSve"
      }
    },
    {
      "cell_type": "code",
      "source": [
        "Text_4 = 'The quick brown fox jumps over the lazy dog.'\n",
        "check_words = ['fox', 'dog', 'horse']\n",
        "\n",
        "for i in check_words:\n",
        "    if i in Text_4:\n",
        "        print(f\"'{i}' is found in the text.\")\n",
        "    else:\n",
        "        print(f\"'{i}' is not found in the text.\")"
      ],
      "metadata": {
        "colab": {
          "base_uri": "https://localhost:8080/"
        },
        "id": "lhI3nDQAHcl1",
        "outputId": "fca21bcc-07ab-4877-d97c-802389e40f2a"
      },
      "execution_count": 83,
      "outputs": [
        {
          "output_type": "stream",
          "name": "stdout",
          "text": [
            "'fox' is found in the text.\n",
            "'dog' is found in the text.\n",
            "'horse' is not found in the text.\n"
          ]
        }
      ]
    },
    {
      "cell_type": "markdown",
      "source": [
        "Question 16- Write a Python program to search a literals string in a string and also find the location within the original string where the pattern occurs\n"
      ],
      "metadata": {
        "id": "60OHnpdbOLCZ"
      }
    },
    {
      "cell_type": "code",
      "source": [
        "Text_5 = 'The quick brown fox jumps over the lazy dog.'\n",
        "pattern = re.compile(re.escape('fox'), re.IGNORECASE)\n",
        "output = pattern.search(Text_5)"
      ],
      "metadata": {
        "id": "FcS6oIdrM8FN"
      },
      "execution_count": 85,
      "outputs": []
    },
    {
      "cell_type": "code",
      "source": [
        "output"
      ],
      "metadata": {
        "colab": {
          "base_uri": "https://localhost:8080/"
        },
        "id": "QrW57mQ5Os3I",
        "outputId": "ebb94d70-0b86-43ae-c7db-7d406ab2dd8d"
      },
      "execution_count": 86,
      "outputs": [
        {
          "output_type": "execute_result",
          "data": {
            "text/plain": [
              "<regex.Match object; span=(16, 19), match='fox'>"
            ]
          },
          "metadata": {},
          "execution_count": 86
        }
      ]
    },
    {
      "cell_type": "markdown",
      "source": [
        "Question 17- Write a Python program to find the substrings within a string."
      ],
      "metadata": {
        "id": "82sT3jGdO8Kr"
      }
    },
    {
      "cell_type": "code",
      "source": [
        "Text_6 = 'Python exercises, PHP exercises, C# exercises'\n",
        "pattern = re.compile(re.escape('exercises'))\n",
        "output = pattern.findall(Text_6)\n",
        "output"
      ],
      "metadata": {
        "colab": {
          "base_uri": "https://localhost:8080/"
        },
        "id": "RjWOJzEKOvv-",
        "outputId": "b9288501-50c9-4273-fb2e-161f78a7eccf"
      },
      "execution_count": 90,
      "outputs": [
        {
          "output_type": "execute_result",
          "data": {
            "text/plain": [
              "['exercises', 'exercises', 'exercises']"
            ]
          },
          "metadata": {},
          "execution_count": 90
        }
      ]
    },
    {
      "cell_type": "markdown",
      "source": [
        "Question 19- Write a Python program to convert a date of yyyy-mm-dd format to dd-mm-yyyy format."
      ],
      "metadata": {
        "id": "4d_PVFaTUT37"
      }
    },
    {
      "cell_type": "code",
      "source": [
        "input_date = '2023-10-08'\n",
        "pattern = re.compile(r'(\\d{4})-(\\d{2})-(\\d{2})')\n",
        "\n",
        "output_date = pattern.sub(r'\\3-\\2-\\1', input_date)\n",
        "output_date"
      ],
      "metadata": {
        "colab": {
          "base_uri": "https://localhost:8080/",
          "height": 36
        },
        "id": "dBqasC4-UMQY",
        "outputId": "557cf0b5-f33d-4860-80ab-12c3258ecc3c"
      },
      "execution_count": 93,
      "outputs": [
        {
          "output_type": "execute_result",
          "data": {
            "text/plain": [
              "'08-10-2023'"
            ],
            "application/vnd.google.colaboratory.intrinsic+json": {
              "type": "string"
            }
          },
          "metadata": {},
          "execution_count": 93
        }
      ]
    },
    {
      "cell_type": "markdown",
      "source": [
        "Question 20- Create a function in python to find all decimal numbers with a precision of 1 or 2 in a string. The use of the re.compile() method is mandatory."
      ],
      "metadata": {
        "id": "lb0yZLMzUpcu"
      }
    },
    {
      "cell_type": "code",
      "source": [
        "def decimal_numbers(text):\n",
        "    pattern = re.compile(r'\\b\\d+\\.\\d{1,2}\\b')\n",
        "\n",
        "    # Use re.findall() to find all matching numbers in the text\n",
        "    decimal_numbers = pattern.findall(text)\n",
        "\n",
        "    return decimal_numbers\n",
        "\n",
        "sample_text = \"01.12, 0132.123, 2.31875, 12.8, 2.01, 27.25, 0.25, 55\""
      ],
      "metadata": {
        "id": "FbxiXh0PUchF"
      },
      "execution_count": 101,
      "outputs": []
    },
    {
      "cell_type": "code",
      "source": [
        "result = decimal_numbers(sample_text)\n",
        "result"
      ],
      "metadata": {
        "colab": {
          "base_uri": "https://localhost:8080/"
        },
        "id": "AdaxE83dU2yM",
        "outputId": "64284164-ba1f-435b-ca97-d6171e522306"
      },
      "execution_count": 100,
      "outputs": [
        {
          "output_type": "execute_result",
          "data": {
            "text/plain": [
              "['01.12', '12.8', '2.01', '27.25', '0.25']"
            ]
          },
          "metadata": {},
          "execution_count": 100
        }
      ]
    },
    {
      "cell_type": "markdown",
      "source": [
        "Question 21- Write a Python program to separate and print the numbers and their position of a given string."
      ],
      "metadata": {
        "id": "y5QjuFZ-VRtB"
      }
    },
    {
      "cell_type": "code",
      "source": [
        "sample_text = \"There are 12 apples and 3 bananas in the basket.\"\n",
        "pattern = re.compile(r'\\b\\d+\\b')"
      ],
      "metadata": {
        "id": "3UEwr7nsU4Jl"
      },
      "execution_count": 102,
      "outputs": []
    },
    {
      "cell_type": "code",
      "source": [
        "matches = [(match.group(), match.start()) for match in pattern.finditer(sample_text)]\n",
        "matches"
      ],
      "metadata": {
        "colab": {
          "base_uri": "https://localhost:8080/"
        },
        "id": "kVZrbF2OVViD",
        "outputId": "c78c26e1-c903-4104-a215-a115e2c3336c"
      },
      "execution_count": 103,
      "outputs": [
        {
          "output_type": "execute_result",
          "data": {
            "text/plain": [
              "[('12', 10), ('3', 24)]"
            ]
          },
          "metadata": {},
          "execution_count": 103
        }
      ]
    },
    {
      "cell_type": "markdown",
      "source": [
        "Question 22- Write a regular expression in python program to extract maximum/largest numeric value from a string."
      ],
      "metadata": {
        "id": "E5Kd3lOqVqZZ"
      }
    },
    {
      "cell_type": "code",
      "source": [
        "sample_text = 'My marks in each semester are: 947, 896, 926, 524, 734, 950, 642'\n",
        "pattern = re.compile(r'\\b\\d+\\b')\n",
        "\n",
        "numbers = pattern.findall(sample_text)\n",
        "numbers"
      ],
      "metadata": {
        "colab": {
          "base_uri": "https://localhost:8080/"
        },
        "id": "gedFu21PVgTo",
        "outputId": "a633ec1e-303e-44ab-91fb-a1a470b8d16b"
      },
      "execution_count": 105,
      "outputs": [
        {
          "output_type": "execute_result",
          "data": {
            "text/plain": [
              "['947', '896', '926', '524', '734', '950', '642']"
            ]
          },
          "metadata": {},
          "execution_count": 105
        }
      ]
    },
    {
      "cell_type": "code",
      "source": [
        "type(numbers)"
      ],
      "metadata": {
        "colab": {
          "base_uri": "https://localhost:8080/"
        },
        "id": "VFf85a1CV2J_",
        "outputId": "aa9c0788-8af9-4a01-f088-e5419f4ee903"
      },
      "execution_count": 107,
      "outputs": [
        {
          "output_type": "execute_result",
          "data": {
            "text/plain": [
              "list"
            ]
          },
          "metadata": {},
          "execution_count": 107
        }
      ]
    },
    {
      "cell_type": "code",
      "source": [
        "max(numbers)"
      ],
      "metadata": {
        "colab": {
          "base_uri": "https://localhost:8080/",
          "height": 36
        },
        "id": "CrlX2BPoV8B5",
        "outputId": "cbb588df-7692-4e99-e5c5-1548ae263505"
      },
      "execution_count": 109,
      "outputs": [
        {
          "output_type": "execute_result",
          "data": {
            "text/plain": [
              "'950'"
            ],
            "application/vnd.google.colaboratory.intrinsic+json": {
              "type": "string"
            }
          },
          "metadata": {},
          "execution_count": 109
        }
      ]
    },
    {
      "cell_type": "markdown",
      "source": [
        "Question 23- Create a function in python to insert spaces between words starting with capital letters."
      ],
      "metadata": {
        "id": "XQ0Mrg-UWVJV"
      }
    },
    {
      "cell_type": "code",
      "source": [
        "def spaces_between_capital_words(input_text):\n",
        "    pattern = re.compile(r'([A-Z][a-z]*)')\n",
        "    spaced_text = pattern.sub(r' \\1', input_text)\n",
        "\n",
        "    return spaced_text"
      ],
      "metadata": {
        "id": "X_q1JqEZWEUR"
      },
      "execution_count": 110,
      "outputs": []
    },
    {
      "cell_type": "code",
      "source": [
        "sample_text = \"RegularExpressionIsAnImportantTopicInPython\"\n",
        "output = spaces_between_capital_words(sample_text)\n",
        "\n",
        "output"
      ],
      "metadata": {
        "colab": {
          "base_uri": "https://localhost:8080/",
          "height": 36
        },
        "id": "A-oSYcjJWg8E",
        "outputId": "4c046afb-e012-4ef1-e98c-537bc0c95213"
      },
      "execution_count": 111,
      "outputs": [
        {
          "output_type": "execute_result",
          "data": {
            "text/plain": [
              "' Regular Expression Is An Important Topic In Python'"
            ],
            "application/vnd.google.colaboratory.intrinsic+json": {
              "type": "string"
            }
          },
          "metadata": {},
          "execution_count": 111
        }
      ]
    },
    {
      "cell_type": "markdown",
      "source": [
        "Question 24- Python regex to find sequences of one upper case letter followed by lower case letters"
      ],
      "metadata": {
        "id": "FI024OOkWu_w"
      }
    },
    {
      "cell_type": "code",
      "source": [
        "sample_text = \"I Am LeArning PyTHon\"\n",
        "pattern = re.compile(r'[A-Z][a-z]+')"
      ],
      "metadata": {
        "id": "zhFtoXpBWwNb"
      },
      "execution_count": 112,
      "outputs": []
    },
    {
      "cell_type": "code",
      "source": [
        "output = pattern.findall(sample_text)\n",
        "output"
      ],
      "metadata": {
        "colab": {
          "base_uri": "https://localhost:8080/"
        },
        "id": "851ssccwW5u3",
        "outputId": "d4039b6a-62a7-4e79-e8c3-1f63633a733d"
      },
      "execution_count": 113,
      "outputs": [
        {
          "output_type": "execute_result",
          "data": {
            "text/plain": [
              "['Am', 'Le', 'Arning', 'Py', 'Hon']"
            ]
          },
          "metadata": {},
          "execution_count": 113
        }
      ]
    },
    {
      "cell_type": "markdown",
      "source": [
        "Question 25- Write a Python program to remove continuous duplicate words from Sentence using Regular Expression.\n",
        "\n"
      ],
      "metadata": {
        "id": "5SPZGMURXbzL"
      }
    },
    {
      "cell_type": "code",
      "source": [
        "sample_text = \"Hello hello world world\"\n",
        "pattern = re.compile(r'\\b(\\w+)( \\1)+\\b', flags=re.IGNORECASE)"
      ],
      "metadata": {
        "id": "CnEpEMjeW94a"
      },
      "execution_count": 114,
      "outputs": []
    },
    {
      "cell_type": "code",
      "source": [
        "output = pattern.sub(r'\\1', sample_text)\n",
        "output"
      ],
      "metadata": {
        "colab": {
          "base_uri": "https://localhost:8080/",
          "height": 36
        },
        "id": "n3LnxtIPZq4i",
        "outputId": "640303a3-1158-479b-a496-4045e880a7a8"
      },
      "execution_count": 116,
      "outputs": [
        {
          "output_type": "execute_result",
          "data": {
            "text/plain": [
              "'Hello world'"
            ],
            "application/vnd.google.colaboratory.intrinsic+json": {
              "type": "string"
            }
          },
          "metadata": {},
          "execution_count": 116
        }
      ]
    },
    {
      "cell_type": "markdown",
      "source": [
        "Question 26-  Write a python program using RegEx to accept string ending with alphanumeric character."
      ],
      "metadata": {
        "id": "gMG4EzOYaD69"
      }
    },
    {
      "cell_type": "code",
      "source": [
        "sample_text = \"Password123 is the password to unlock\"\n",
        "pattern = re.compile(r'^.*[a-zA-Z0-9]$')"
      ],
      "metadata": {
        "id": "Pm2EvHCLZv7q"
      },
      "execution_count": 117,
      "outputs": []
    },
    {
      "cell_type": "code",
      "source": [
        "output=pattern.match(sample_text)\n",
        "output"
      ],
      "metadata": {
        "colab": {
          "base_uri": "https://localhost:8080/"
        },
        "id": "zluho2O7aPAy",
        "outputId": "e44db602-53f6-4d8f-c24c-f27cdc718eb1"
      },
      "execution_count": 118,
      "outputs": [
        {
          "output_type": "execute_result",
          "data": {
            "text/plain": [
              "<regex.Match object; span=(0, 37), match='Password123 is the password to unlock'>"
            ]
          },
          "metadata": {},
          "execution_count": 118
        }
      ]
    },
    {
      "cell_type": "markdown",
      "source": [
        "Question 27-Write a python program using RegEx to extract the hashtags."
      ],
      "metadata": {
        "id": "HTxYHSN_bIG_"
      }
    },
    {
      "cell_type": "code",
      "source": [
        "sample_text = \"\"\"RT @kapil_kausik: #Doltiwal I mean #xyzabc is \"hurt\" by #Demonetization as the same has rendered USELESS <ed><U+00A0><U+00BD><ed><U+00B1><U+0089> \"acquired funds\" No wo\"\"\"\n",
        "\n",
        "pattern = re.compile(r'#\\w+')\n"
      ],
      "metadata": {
        "id": "7sHdiQEfbShs"
      },
      "execution_count": 124,
      "outputs": []
    },
    {
      "cell_type": "code",
      "source": [
        "hashtags = pattern.findall(sample_text)\n",
        "print(hashtags)"
      ],
      "metadata": {
        "colab": {
          "base_uri": "https://localhost:8080/"
        },
        "id": "mj_RPuBMbkDw",
        "outputId": "ff2c0ae1-d5d7-4828-da49-f595008370b0"
      },
      "execution_count": 125,
      "outputs": [
        {
          "output_type": "stream",
          "name": "stdout",
          "text": [
            "['#Doltiwal', '#xyzabc', '#Demonetization']\n"
          ]
        }
      ]
    },
    {
      "cell_type": "markdown",
      "source": [
        "Question 28- Write a python program using RegEx to remove <U+..> like symbols\n",
        "Check the below sample text, there are strange symbols something of the sort <U+..> all over the place. You need to come up with a general Regex expression that will cover all such symbols.\n"
      ],
      "metadata": {
        "id": "wFSiy8Q7b4xB"
      }
    },
    {
      "cell_type": "code",
      "source": [
        "sample_text: \"@Jags123456 Bharat band on 28??<ed><U+00A0><U+00BD><ed><U+00B8><U+0082>Those who  are protesting #demonetization  are all different party leaders\""
      ],
      "metadata": {
        "id": "vdO6kIVMbvVC"
      },
      "execution_count": 126,
      "outputs": []
    },
    {
      "cell_type": "code",
      "source": [
        "pattern = re.compile(r'<U\\+\\w+>')"
      ],
      "metadata": {
        "id": "A-93VBNacASm"
      },
      "execution_count": 127,
      "outputs": []
    },
    {
      "cell_type": "code",
      "source": [
        "output = re.sub(pattern,\"\", sample_text)"
      ],
      "metadata": {
        "id": "iExgbsk6cDZf"
      },
      "execution_count": 128,
      "outputs": []
    },
    {
      "cell_type": "code",
      "source": [
        "output"
      ],
      "metadata": {
        "colab": {
          "base_uri": "https://localhost:8080/",
          "height": 53
        },
        "id": "kDGgooA_cKZ0",
        "outputId": "85e9a934-6159-4ba9-ece5-ff64a156a1f0"
      },
      "execution_count": 129,
      "outputs": [
        {
          "output_type": "execute_result",
          "data": {
            "text/plain": [
              "'RT @kapil_kausik: #Doltiwal I mean #xyzabc is \"hurt\" by #Demonetization as the same has rendered USELESS <ed><ed> \"acquired funds\" No wo'"
            ],
            "application/vnd.google.colaboratory.intrinsic+json": {
              "type": "string"
            }
          },
          "metadata": {},
          "execution_count": 129
        }
      ]
    },
    {
      "cell_type": "markdown",
      "source": [
        "Question 29- Write a python program to extract dates from the text stored in the text file."
      ],
      "metadata": {
        "id": "6U-WHPf2ceVK"
      }
    },
    {
      "cell_type": "code",
      "source": [
        "with open(\"sample.txt\", \"r\") as file:\n",
        "    sample_text = file.read()"
      ],
      "metadata": {
        "id": "TfnfsK9ZcgkC"
      },
      "execution_count": 130,
      "outputs": []
    },
    {
      "cell_type": "code",
      "source": [
        "sample_text"
      ],
      "metadata": {
        "colab": {
          "base_uri": "https://localhost:8080/",
          "height": 36
        },
        "id": "5P56VHI8ct3p",
        "outputId": "86359334-c2cc-430e-e0ba-d567b9471886"
      },
      "execution_count": 131,
      "outputs": [
        {
          "output_type": "execute_result",
          "data": {
            "text/plain": [
              "'Ron was born on 12-09-1992 and he was admitted to school 15-12-1999.'"
            ],
            "application/vnd.google.colaboratory.intrinsic+json": {
              "type": "string"
            }
          },
          "metadata": {},
          "execution_count": 131
        }
      ]
    },
    {
      "cell_type": "code",
      "source": [
        "pattern = re.compile(r'\\b\\d{2}-\\d{2}-\\d{4}\\b')"
      ],
      "metadata": {
        "id": "nd7KGUCpcvv6"
      },
      "execution_count": 132,
      "outputs": []
    },
    {
      "cell_type": "code",
      "source": [
        "dates = re.findall(pattern,sample_text)"
      ],
      "metadata": {
        "id": "Wpf5QQ3Fcx1g"
      },
      "execution_count": 133,
      "outputs": []
    },
    {
      "cell_type": "code",
      "source": [
        "dates"
      ],
      "metadata": {
        "colab": {
          "base_uri": "https://localhost:8080/"
        },
        "id": "JlNLmt6lc00J",
        "outputId": "71e3ea3b-5952-4176-bc6d-80b327c36781"
      },
      "execution_count": 134,
      "outputs": [
        {
          "output_type": "execute_result",
          "data": {
            "text/plain": [
              "['12-09-1992', '15-12-1999']"
            ]
          },
          "metadata": {},
          "execution_count": 134
        }
      ]
    },
    {
      "cell_type": "markdown",
      "source": [
        "Question 30- Create a function in python to remove all words from a string of length between 2 and 4.\n",
        "The use of the re.compile() method is mandatory.\n"
      ],
      "metadata": {
        "id": "M-3GjEMtc-5V"
      }
    },
    {
      "cell_type": "code",
      "source": [
        "def remove_words_lengths(text):\n",
        "    pattern = re.compile(r'\\b\\w{2,4}\\b')\n",
        "    cleaned_text = re.sub(pattern,\"\", text)\n",
        "\n",
        "    return cleaned_text"
      ],
      "metadata": {
        "id": "Kr2yzv8Nc1mw"
      },
      "execution_count": 139,
      "outputs": []
    },
    {
      "cell_type": "code",
      "source": [
        "sample_text = \"The following example creates an ArrayList with a capacity of 50 elements. 4 elements are then added to the ArrayList and the ArrayList is trimmed accordingly.\"\n",
        "\n",
        "result = remove_words_lengths(sample_text)\n"
      ],
      "metadata": {
        "id": "wG1379dndO_5"
      },
      "execution_count": 140,
      "outputs": []
    },
    {
      "cell_type": "code",
      "source": [
        "result"
      ],
      "metadata": {
        "colab": {
          "base_uri": "https://localhost:8080/",
          "height": 53
        },
        "id": "NK3FgxoUdUZv",
        "outputId": "85622eab-c5e7-4831-887e-b435cbfc58c6"
      },
      "execution_count": 141,
      "outputs": [
        {
          "output_type": "execute_result",
          "data": {
            "text/plain": [
              "' following example creates  ArrayList  a capacity   elements. 4 elements   added   ArrayList   ArrayList  trimmed accordingly.'"
            ],
            "application/vnd.google.colaboratory.intrinsic+json": {
              "type": "string"
            }
          },
          "metadata": {},
          "execution_count": 141
        }
      ]
    },
    {
      "cell_type": "code",
      "source": [],
      "metadata": {
        "id": "AmvXDDJ8du4d"
      },
      "execution_count": null,
      "outputs": []
    }
  ]
}